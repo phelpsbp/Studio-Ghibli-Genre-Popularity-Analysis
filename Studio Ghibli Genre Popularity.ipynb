{
 "cells": [
  {
   "cell_type": "raw",
   "metadata": {},
   "source": [
    "{\n",
    "  \"title\": \"Studio Ghibli Genre Popularity Dashboard\",\n",
    "  \"author\": \"Brittany Phelps\",\n",
    "  \"date\": \"2024-04-26 11:49:39\"\n",
    "}"
   ]
  },
  {
   "cell_type": "code",
   "execution_count": 1,
   "metadata": {},
   "outputs": [],
   "source": [
    "%load_ext pretty_jupyter"
   ]
  },
  {
   "cell_type": "code",
   "execution_count": 2,
   "metadata": {},
   "outputs": [],
   "source": [
    "# Import Notebook Libraries\n",
    "from plotly.offline import plot\n",
    "import pandas as pd\n",
    "from IPython.display import display, HTML\n",
    "import plotly.express as px\n",
    "import plotly.graph_objects as go\n",
    "import plotly.io\n",
    "from pretty_jupyter.helpers import matplotlib_fig_to_html\n",
    "import warnings\n",
    "warnings.filterwarnings('ignore', category=FutureWarning)\n",
    "from IPython.display import HTML"
   ]
  },
  {
   "cell_type": "code",
   "execution_count": 3,
   "metadata": {},
   "outputs": [],
   "source": [
    "plotly.io.renderers.default = 'notebook_connected'"
   ]
  },
  {
   "cell_type": "code",
   "execution_count": 7,
   "metadata": {},
   "outputs": [
    {
     "data": {
      "text/markdown": [
       "\n",
       "\n",
       "![NoFace](noface.png)\n",
       "**Image Source:** *Studio Ghibli* **Movie:** *\"Spirited Away\"*\n",
       "\n",
       "# Introduction\n",
       "\n",
       "Studio Ghibli stands as a paragon of animation and storytelling, distinguished by its ability to portray complex emotional narratives with breathtakingly beautiful visuals. Known for its artistic vision, Ghibli has not only pioneered numerous animation techniques but also set new benchmarks for narrative depth in animation. This project aims to analyze the success of various genres within Studio Ghibli's rich catalog, focusing on which genres have been most successful. By examining key aspects such as financial performance, directorial influence, budgets, revenues, and film durations, the analysis seeks to highlight the unique attributes and production dynamics that have contributed significantly to Studio Ghibli's enduring success and cultural impact.\n",
       "\n",
       "\n",
       "## Project Overview\n",
       "\n",
       "This project conducts an in-depth analysis of Studio Ghibli films, focusing on the success of different genres within the studio’s film catalog. By examining elements like financial performance, budgets, revenues, directorial influence, and film durations, the study aims to determine which genres have been most effective in contributing to the studio's financial success and audience reach. The objective is to provide insights that can inform future film projects and marketing strategies, ensuring the continued success and resonance of Studio Ghibli’s productions with audiences worldwide.\n",
       "\n",
       "## Business Questions\n",
       "\n",
       "1. **Which genre combinations are most frequently produced by Studio Ghibli, and what does this indicate about viewer preferences?**\n",
       "   - This question explores the production frequency to infer genre popularity and audience trends.\n",
       "\n",
       "2. **Which genre combinations yield the highest financial returns for Studio Ghibli?**\n",
       "   - Identifying the genres that generate the most revenue can suggest where future financial investments could be most profitable.\n",
       "\n",
       "3. **How do film durations vary across different genres, and what might this suggest about audience engagement?**\n",
       "   - Understanding the correlation between film length and genre can help tailor future productions to better meet audience expectations.\n",
       "\n",
       "4. **What is the impact of different directors on the financial and critical success of various genres?**\n",
       "   - Analyzing directorial influence on genre success can guide decisions about director assignments to optimize film performance.\n",
       "\n",
       "### Setup\n",
       "#### Import Require Libraries\n",
       "```python\n",
       "import pandas as pd\n",
       "import matplotlib.pyplot as plt\n",
       "import numpy as np\n",
       "from scipy import stats\n",
       "import tableauserverclient as TSC\n",
       "```\n",
       "#### Load Data\n",
       "```python\n",
       "data = pd.read_csv('Studio_Ghibli.csv')\n",
       "```"
      ],
      "text/plain": [
       "<IPython.core.display.Markdown object>"
      ]
     },
     "execution_count": 7,
     "metadata": {},
     "output_type": "execute_result"
    }
   ],
   "source": [
    "%%jmd\n",
    "\n",
    "\n",
    "![NoFace](noface.png)\n",
    "**Image Source:** *Studio Ghibli* **Movie:** *\"Spirited Away\"*\n",
    "\n",
    "# Introduction\n",
    "\n",
    "Studio Ghibli stands as a paragon of animation and storytelling, distinguished by its ability to portray complex emotional narratives with breathtakingly beautiful visuals. Known for its artistic vision, Ghibli has not only pioneered numerous animation techniques but also set new benchmarks for narrative depth in animation. This project aims to analyze the success of various genres within Studio Ghibli's rich catalog, focusing on which genres have been most successful. By examining key aspects such as financial performance, directorial influence, budgets, revenues, and film durations, the analysis seeks to highlight the unique attributes and production dynamics that have contributed significantly to Studio Ghibli's enduring success and cultural impact.\n",
    "\n",
    "\n",
    "## Project Overview\n",
    "\n",
    "This project conducts an in-depth analysis of Studio Ghibli films, focusing on the success of different genres within the studio’s film catalog. By examining elements like financial performance, budgets, revenues, directorial influence, and film durations, the study aims to determine which genres have been most effective in contributing to the studio's financial success and audience reach. The objective is to provide insights that can inform future film projects and marketing strategies, ensuring the continued success and resonance of Studio Ghibli’s productions with audiences worldwide.\n",
    "\n",
    "## Business Questions\n",
    "\n",
    "1. **Which genre combinations are most frequently produced by Studio Ghibli, and what does this indicate about viewer preferences?**\n",
    "   - This question explores the production frequency to infer genre popularity and audience trends.\n",
    "\n",
    "2. **Which genre combinations yield the highest financial returns for Studio Ghibli?**\n",
    "   - Identifying the genres that generate the most revenue can suggest where future financial investments could be most profitable.\n",
    "\n",
    "3. **How do film durations vary across different genres, and what might this suggest about audience engagement?**\n",
    "   - Understanding the correlation between film length and genre can help tailor future productions to better meet audience expectations.\n",
    "\n",
    "4. **What is the impact of different directors on the financial and critical success of various genres?**\n",
    "   - Analyzing directorial influence on genre success can guide decisions about director assignments to optimize film performance.\n",
    "\n",
    "### Setup\n",
    "#### Import Require Libraries\n",
    "```python\n",
    "import pandas as pd\n",
    "import matplotlib.pyplot as plt\n",
    "import numpy as np\n",
    "from scipy import stats\n",
    "import tableauserverclient as TSC\n",
    "```\n",
    "#### Load Data\n",
    "```python\n",
    "data = pd.read_csv('Studio_Ghibli.csv')\n",
    "```"
   ]
  },
  {
   "cell_type": "code",
   "execution_count": null,
   "metadata": {},
   "outputs": [],
   "source": [
    "import pandas as pd\n",
    "import matplotlib.pyplot as plt\n",
    "import numpy as np\n",
    "from scipy import stats\n",
    "import tableauserverclient as TSC"
   ]
  },
  {
   "cell_type": "code",
   "execution_count": 7,
   "metadata": {},
   "outputs": [
    {
     "data": {
      "text/html": [
       "<div>\n",
       "<style scoped>\n",
       "    .dataframe tbody tr th:only-of-type {\n",
       "        vertical-align: middle;\n",
       "    }\n",
       "\n",
       "    .dataframe tbody tr th {\n",
       "        vertical-align: top;\n",
       "    }\n",
       "\n",
       "    .dataframe thead th {\n",
       "        text-align: right;\n",
       "    }\n",
       "</style>\n",
       "<table border=\"1\" class=\"dataframe\">\n",
       "  <thead>\n",
       "    <tr style=\"text-align: right;\">\n",
       "      <th></th>\n",
       "      <th>Name</th>\n",
       "      <th>Year</th>\n",
       "      <th>Director</th>\n",
       "      <th>Screenplay</th>\n",
       "      <th>Budget</th>\n",
       "      <th>Revenue</th>\n",
       "      <th>Genre 1</th>\n",
       "      <th>Genre 2</th>\n",
       "      <th>Genre 3</th>\n",
       "      <th>Duration</th>\n",
       "    </tr>\n",
       "  </thead>\n",
       "  <tbody>\n",
       "    <tr>\n",
       "      <th>0</th>\n",
       "      <td>When Marnie Was There\\n       (2014)</td>\n",
       "      <td>2014</td>\n",
       "      <td>Hiromasa Yonebayashi</td>\n",
       "      <td>Joan G. Robinson</td>\n",
       "      <td>$1150000000.00</td>\n",
       "      <td>$34949567.00</td>\n",
       "      <td>Animation</td>\n",
       "      <td>Drama</td>\n",
       "      <td>NaN</td>\n",
       "      <td>1h 43m</td>\n",
       "    </tr>\n",
       "    <tr>\n",
       "      <th>1</th>\n",
       "      <td>The Tale of The Princess Kaguya\\n       (2013)</td>\n",
       "      <td>2013</td>\n",
       "      <td>Isao Takahata</td>\n",
       "      <td>Riko Sakaguchi</td>\n",
       "      <td>$49300000.00</td>\n",
       "      <td>$24366656.00</td>\n",
       "      <td>Animation</td>\n",
       "      <td>Drama</td>\n",
       "      <td>Fantasy</td>\n",
       "      <td>2h 17m</td>\n",
       "    </tr>\n",
       "    <tr>\n",
       "      <th>2</th>\n",
       "      <td>The Wind Rises\\n       (2013)</td>\n",
       "      <td>2013</td>\n",
       "      <td>Hayao Miyazaki</td>\n",
       "      <td>Tatsuo Hori</td>\n",
       "      <td>$30000000.00</td>\n",
       "      <td>$117932401.00</td>\n",
       "      <td>Drama</td>\n",
       "      <td>Animation</td>\n",
       "      <td>Romance</td>\n",
       "      <td>2h 6m</td>\n",
       "    </tr>\n",
       "    <tr>\n",
       "      <th>3</th>\n",
       "      <td>From Up on Poppy Hill\\n       (2011)</td>\n",
       "      <td>2011</td>\n",
       "      <td>Goro Miyazaki</td>\n",
       "      <td>Hayao Miyazaki</td>\n",
       "      <td>$22000000.00</td>\n",
       "      <td>$61037844.00</td>\n",
       "      <td>Animation</td>\n",
       "      <td>Drama</td>\n",
       "      <td>NaN</td>\n",
       "      <td>1h 31m</td>\n",
       "    </tr>\n",
       "    <tr>\n",
       "      <th>4</th>\n",
       "      <td>The Secret World of Arrietty\\n       (2010)</td>\n",
       "      <td>2010</td>\n",
       "      <td>Hiromasa Yonebayashi</td>\n",
       "      <td>Mary Norton</td>\n",
       "      <td>$23000000.00</td>\n",
       "      <td>$149480483.00</td>\n",
       "      <td>Fantasy</td>\n",
       "      <td>Animation</td>\n",
       "      <td>Family</td>\n",
       "      <td>1h 34m</td>\n",
       "    </tr>\n",
       "  </tbody>\n",
       "</table>\n",
       "</div>"
      ],
      "text/plain": [
       "                                             Name  Year              Director  \\\n",
       "0            When Marnie Was There\\n       (2014)  2014  Hiromasa Yonebayashi   \n",
       "1  The Tale of The Princess Kaguya\\n       (2013)  2013         Isao Takahata   \n",
       "2                   The Wind Rises\\n       (2013)  2013        Hayao Miyazaki   \n",
       "3            From Up on Poppy Hill\\n       (2011)  2011         Goro Miyazaki   \n",
       "4     The Secret World of Arrietty\\n       (2010)  2010  Hiromasa Yonebayashi   \n",
       "\n",
       "         Screenplay          Budget        Revenue    Genre 1    Genre 2  \\\n",
       "0  Joan G. Robinson  $1150000000.00   $34949567.00  Animation      Drama   \n",
       "1    Riko Sakaguchi    $49300000.00   $24366656.00  Animation      Drama   \n",
       "2       Tatsuo Hori    $30000000.00  $117932401.00      Drama  Animation   \n",
       "3    Hayao Miyazaki    $22000000.00   $61037844.00  Animation      Drama   \n",
       "4       Mary Norton    $23000000.00  $149480483.00    Fantasy  Animation   \n",
       "\n",
       "   Genre 3 Duration  \n",
       "0      NaN   1h 43m  \n",
       "1  Fantasy   2h 17m  \n",
       "2  Romance    2h 6m  \n",
       "3      NaN   1h 31m  \n",
       "4   Family   1h 34m  "
      ]
     },
     "execution_count": 7,
     "metadata": {},
     "output_type": "execute_result"
    }
   ],
   "source": [
    "data = pd.read_csv('Studio_Ghibli.csv')\n",
    "data.head()"
   ]
  },
  {
   "cell_type": "code",
   "execution_count": 8,
   "metadata": {},
   "outputs": [
    {
     "data": {
      "text/markdown": [
       "\n",
       "___\n",
       "\n",
       "# Exploratory Data Analysis (EDA)\n",
       "\n",
       "## Data Cleaning\n",
       "1. Remove the suffix \"\\n(20__)\" in the `Name` column.\n",
       "```python\n",
       "# Remove '\\n' and year suffix from the \"Name\" column\n",
       "data['Name'] = data['Name'].str.replace(r'\\s*\\(\\d+\\)', '', regex=True)\n",
       "```\n",
       "\n",
       "2. Convert `Revenue` and `Budget` to numerical values.\n",
       "```python\n",
       "data['Revenue'] = data['Revenue'].replace('[\\$,]', '', regex=True).astype(float)\n",
       "data['Budget'] = data['Budget'].replace('[\\$,]', '', regex=True).astype(float)\n",
       "```\n",
       "\n",
       "3. Handle any missing values in the `Genre 3` and `Screenplay` columns.\n",
       "```python\n",
       "# Checking for missing values in genre columns\n",
       "missing_values = data[['Genre 1', 'Genre 2', 'Genre 3', 'Screenplay']].isnull().sum()\n",
       "```\n",
       "\n",
       "4. Verify and possibly format the `Year` and `Duration` for consistent analysis.\n",
       "```python\n",
       "# Function to convert duration formatted as 'Xh Ym' to total minutes\n",
       "def convert_duration_to_minutes(duration):\n",
       "    hours, minutes = duration.split('h ')\n",
       "    minutes = minutes.strip('m')  # Remove the 'm' from minutes\n",
       "    total_minutes = int(hours) * 60 + int(minutes)\n",
       "    return total_minutes\n",
       "```"
      ],
      "text/plain": [
       "<IPython.core.display.Markdown object>"
      ]
     },
     "execution_count": 8,
     "metadata": {},
     "output_type": "execute_result"
    }
   ],
   "source": [
    "%%jmd\n",
    "\n",
    "___\n",
    "\n",
    "# Exploratory Data Analysis (EDA)\n",
    "\n",
    "## Data Cleaning\n",
    "1. Remove the suffix \"\\n(20__)\" in the `Name` column.\n",
    "```python\n",
    "# Remove '\\n' and year suffix from the \"Name\" column\n",
    "data['Name'] = data['Name'].str.replace(r'\\s*\\(\\d+\\)', '', regex=True)\n",
    "```\n",
    "\n",
    "2. Convert `Revenue` and `Budget` to numerical values.\n",
    "```python\n",
    "data['Revenue'] = data['Revenue'].replace('[\\$,]', '', regex=True).astype(float)\n",
    "data['Budget'] = data['Budget'].replace('[\\$,]', '', regex=True).astype(float)\n",
    "```\n",
    "\n",
    "3. Handle any missing values in the `Genre 3` and `Screenplay` columns.\n",
    "```python\n",
    "# Checking for missing values in genre columns\n",
    "missing_values = data[['Genre 1', 'Genre 2', 'Genre 3', 'Screenplay']].isnull().sum()\n",
    "```\n",
    "\n",
    "4. Verify and possibly format the `Year` and `Duration` for consistent analysis.\n",
    "```python\n",
    "# Function to convert duration formatted as 'Xh Ym' to total minutes\n",
    "def convert_duration_to_minutes(duration):\n",
    "    hours, minutes = duration.split('h ')\n",
    "    minutes = minutes.strip('m')  # Remove the 'm' from minutes\n",
    "    total_minutes = int(hours) * 60 + int(minutes)\n",
    "    return total_minutes\n",
    "```"
   ]
  },
  {
   "cell_type": "code",
   "execution_count": 9,
   "metadata": {},
   "outputs": [
    {
     "data": {
      "text/plain": [
       "(Genre 1       0\n",
       " Genre 2       0\n",
       " Genre 3       4\n",
       " Screenplay    9\n",
       " dtype: int64,\n",
       "                               Name  Year              Director  \\\n",
       " 0            When Marnie Was There  2014  Hiromasa Yonebayashi   \n",
       " 1  The Tale of The Princess Kaguya  2013         Isao Takahata   \n",
       " 2                   The Wind Rises  2013        Hayao Miyazaki   \n",
       " 3            From Up on Poppy Hill  2011         Goro Miyazaki   \n",
       " 4     The Secret World of Arrietty  2010  Hiromasa Yonebayashi   \n",
       " \n",
       "          Screenplay        Budget      Revenue    Genre 1    Genre 2  Genre 3  \\\n",
       " 0  Joan G. Robinson  1.150000e+09   34949567.0  Animation      Drama      NaN   \n",
       " 1    Riko Sakaguchi  4.930000e+07   24366656.0  Animation      Drama  Fantasy   \n",
       " 2       Tatsuo Hori  3.000000e+07  117932401.0      Drama  Animation  Romance   \n",
       " 3    Hayao Miyazaki  2.200000e+07   61037844.0  Animation      Drama      NaN   \n",
       " 4       Mary Norton  2.300000e+07  149480483.0    Fantasy  Animation   Family   \n",
       " \n",
       "   Duration  Duration_in_minutes  \n",
       " 0   1h 43m                  103  \n",
       " 1   2h 17m                  137  \n",
       " 2    2h 6m                  126  \n",
       " 3   1h 31m                   91  \n",
       " 4   1h 34m                   94  )"
      ]
     },
     "execution_count": 9,
     "metadata": {},
     "output_type": "execute_result"
    }
   ],
   "source": [
    "# Remove '\\n' and year suffix from the \"Name\" column\n",
    "data['Name'] = data['Name'].str.replace(r'\\s*\\(\\d+\\)', '', regex=True)\n",
    "\n",
    "# 2. Convert 'Revenue' and 'Budget' to numerical values by removing non-numeric characters and converting to float\n",
    "data['Revenue'] = data['Revenue'].replace('[\\$,]', '', regex=True).astype(float)\n",
    "data['Budget'] = data['Budget'].replace('[\\$,]', '', regex=True).astype(float)\n",
    "\n",
    "# 3. Handling missing values for genres\n",
    "# Checking for missing values in genre columns\n",
    "missing_values = data[['Genre 1', 'Genre 2', 'Genre 3', 'Screenplay']].isnull().sum()\n",
    "\n",
    "# 4. Verify and format 'Year' and 'Duration'\n",
    "# Ensuring 'Year' is an integer\n",
    "data['Year'] = data['Year'].astype(int)\n",
    "\n",
    "# Function to convert duration formatted as 'Xh Ym' to total minutes\n",
    "def convert_duration_to_minutes(duration):\n",
    "    hours, minutes = duration.split('h ')\n",
    "    minutes = minutes.strip('m')  # Remove the 'm' from minutes\n",
    "    total_minutes = int(hours) * 60 + int(minutes)\n",
    "    return total_minutes\n",
    "\n",
    "# Apply this function to each entry in the 'Duration' column\n",
    "data['Duration_in_minutes'] = data['Duration'].apply(convert_duration_to_minutes)\n",
    "\n",
    "missing_values, data.head()"
   ]
  },
  {
   "cell_type": "code",
   "execution_count": 10,
   "metadata": {},
   "outputs": [
    {
     "data": {
      "text/markdown": [
       "\n",
       "- Missing values in `Genre 3` were identified. There are 4 entries missing this information. Since the missing values are due to some films simply not having a third genre, we will leave them as NaN to ensure data integrity.\n",
       "- `Genre 1` and `Genre 2` do not have missing values.\n",
       "- `Screenplay` has 9 missing entries. After futher research, it appears that the missing entries in this column indicate the the Director also wrote the screenplay for the film. So we will fill the missing values in `Screenplay` with the values from the corresponding rows in the `Director` columm.\n",
       "```python\n",
       "# Fill missing values in 'Screenplay' with values from 'Director' column\n",
       "data['Screenplay'].fillna(data['Director'], inplace=True)\n",
       "```"
      ],
      "text/plain": [
       "<IPython.core.display.Markdown object>"
      ]
     },
     "execution_count": 10,
     "metadata": {},
     "output_type": "execute_result"
    }
   ],
   "source": [
    "%%jmd\n",
    "\n",
    "- Missing values in `Genre 3` were identified. There are 4 entries missing this information. Since the missing values are due to some films simply not having a third genre, we will leave them as NaN to ensure data integrity.\n",
    "- `Genre 1` and `Genre 2` do not have missing values.\n",
    "- `Screenplay` has 9 missing entries. After futher research, it appears that the missing entries in this column indicate the the Director also wrote the screenplay for the film. So we will fill the missing values in `Screenplay` with the values from the corresponding rows in the `Director` columm.\n",
    "```python\n",
    "# Fill missing values in 'Screenplay' with values from 'Director' column\n",
    "data['Screenplay'].fillna(data['Director'], inplace=True)\n",
    "```"
   ]
  },
  {
   "cell_type": "code",
   "execution_count": 11,
   "metadata": {},
   "outputs": [],
   "source": [
    "# Fill missing values in 'Screenplay' with values from 'Director' column\n",
    "data['Screenplay'].fillna(data['Director'], inplace=True)"
   ]
  },
  {
   "cell_type": "code",
   "execution_count": 90,
   "metadata": {},
   "outputs": [
    {
     "data": {
      "text/markdown": [
       "\n",
       "## Data Exploration\n",
       "Summarize the data to understand the distribution of genres, revenues, and other metrics.\n",
       "\n",
       "### Summary Statistics\n",
       "Providing an overview of the central tendency, dispersion, and other key metrics of the numerical columns. \n",
       "```python\n",
       "# Summary statistics for numerical columns\n",
       "summary_stats = data[['Revenue', 'Budget', 'Year', 'Duration_in_minutes']].describe()\n",
       "```"
      ],
      "text/plain": [
       "<IPython.core.display.Markdown object>"
      ]
     },
     "execution_count": 90,
     "metadata": {},
     "output_type": "execute_result"
    }
   ],
   "source": [
    "%%jmd\n",
    "\n",
    "## Data Exploration\n",
    "Summarize the data to understand the distribution of genres, revenues, and other metrics.\n",
    "\n",
    "### Summary Statistics\n",
    "Providing an overview of the central tendency, dispersion, and other key metrics of the numerical columns. \n",
    "```python\n",
    "# Summary statistics for numerical columns\n",
    "summary_stats = data[['Revenue', 'Budget', 'Year', 'Duration_in_minutes']].describe()\n",
    "```"
   ]
  },
  {
   "cell_type": "code",
   "execution_count": 13,
   "metadata": {},
   "outputs": [
    {
     "name": "stdout",
     "output_type": "stream",
     "text": [
      "            Revenue        Budget         Year  Duration_in_minutes\n",
      "count  2.300000e+01  2.300000e+01    23.000000            23.000000\n",
      "mean   2.748218e+08  6.918696e+07  2000.086957           107.869565\n",
      "std    9.183466e+08  2.365557e+08    10.697974            18.149141\n",
      "min    1.000000e+05  1.000000e+06  1984.000000            72.000000\n",
      "25%    1.479770e+07  5.950000e+06  1991.500000            93.500000\n",
      "50%    5.401637e+07  2.000000e+07  1999.000000           111.000000\n",
      "75%    1.670000e+08  2.375000e+07  2009.000000           121.500000\n",
      "max    4.470000e+09  1.150000e+09  2023.000000           137.000000\n"
     ]
    }
   ],
   "source": [
    "# Summary statistics for numerical columns\n",
    "summary_stats = data[['Revenue', 'Budget', 'Year', 'Duration_in_minutes']].describe()\n",
    "print(summary_stats)"
   ]
  },
  {
   "cell_type": "code",
   "execution_count": 91,
   "metadata": {},
   "outputs": [
    {
     "data": {
      "text/markdown": [
       "\n",
       "- **Revenue**: \n",
       "  - The average revenue generated by Studio Ghibli films is approximately 274.8 million.\n",
       "  - The revenue varies widely, with a standard deviation of approximately 918.35 million.\n",
       "  - The minimum revenue is 100k, while the maximum is approximately 4.47 billion, suggesting a wide range of financial success among the films.\n",
       "\n",
       "- **Budget**:\n",
       "  - The average production budget for Studio Ghibli films is approximately 69.2 million.\n",
       "  - Similar to revenue, the budget also exhibits significant variation, with a standard deviation of approximately 236.56 million.\n",
       "  - The minimum budget is 1 million, while the maximum is 1.15 billion.\n",
       "\n",
       "- **Year**:\n",
       "  - The films in the dataset were released between 1984 and 2023, spanning nearly four decades.\n",
       "  - The median release year is 1999, indicating that half of the films were released before and after this year.\n",
       "\n",
       "- **Duration in Minutes**:\n",
       "  - The average duration of Studio Ghibli films is approximately 107.9 minutes.\n",
       "  - The durations range from 72 minutes to 137 minutes, with a standard deviation of approximately 18.15 minutes, indicating some variation in film lengths.\n",
       "\n",
       "### Genre Distribution\n",
       "Examining the distribution of genres in the dataset by counting the occurrences of each genre in the `Genre 1`, `Genre 2`, and `Genre 3` columns.\n",
       "```python\n",
       "# Count the occurrences of each genre\n",
       "genre_counts = data[['Genre 1', 'Genre 2', 'Genre 3']].stack().value_counts()\n",
       "```"
      ],
      "text/plain": [
       "<IPython.core.display.Markdown object>"
      ]
     },
     "execution_count": 91,
     "metadata": {},
     "output_type": "execute_result"
    }
   ],
   "source": [
    "%%jmd\n",
    "\n",
    "- **Revenue**: \n",
    "  - The average revenue generated by Studio Ghibli films is approximately 274.8 million.\n",
    "  - The revenue varies widely, with a standard deviation of approximately 918.35 million.\n",
    "  - The minimum revenue is 100k, while the maximum is approximately 4.47 billion, suggesting a wide range of financial success among the films.\n",
    "\n",
    "- **Budget**:\n",
    "  - The average production budget for Studio Ghibli films is approximately 69.2 million.\n",
    "  - Similar to revenue, the budget also exhibits significant variation, with a standard deviation of approximately 236.56 million.\n",
    "  - The minimum budget is 1 million, while the maximum is 1.15 billion.\n",
    "\n",
    "- **Year**:\n",
    "  - The films in the dataset were released between 1984 and 2023, spanning nearly four decades.\n",
    "  - The median release year is 1999, indicating that half of the films were released before and after this year.\n",
    "\n",
    "- **Duration in Minutes**:\n",
    "  - The average duration of Studio Ghibli films is approximately 107.9 minutes.\n",
    "  - The durations range from 72 minutes to 137 minutes, with a standard deviation of approximately 18.15 minutes, indicating some variation in film lengths.\n",
    "\n",
    "### Genre Distribution\n",
    "Examining the distribution of genres in the dataset by counting the occurrences of each genre in the `Genre 1`, `Genre 2`, and `Genre 3` columns.\n",
    "```python\n",
    "# Count the occurrences of each genre\n",
    "genre_counts = data[['Genre 1', 'Genre 2', 'Genre 3']].stack().value_counts()\n",
    "```"
   ]
  },
  {
   "cell_type": "code",
   "execution_count": 15,
   "metadata": {},
   "outputs": [
    {
     "name": "stdout",
     "output_type": "stream",
     "text": [
      "Animation    22\n",
      "Fantasy      14\n",
      "Drama         8\n",
      "Family        8\n",
      "Adventure     8\n",
      "Romance       3\n",
      "War           1\n",
      "Comedy        1\n",
      "Name: count, dtype: int64\n"
     ]
    }
   ],
   "source": [
    "# Count the occurrences of each genre\n",
    "genre_counts = data[['Genre 1', 'Genre 2', 'Genre 3']].stack().value_counts()\n",
    "print(genre_counts)"
   ]
  },
  {
   "cell_type": "code",
   "execution_count": 16,
   "metadata": {},
   "outputs": [
    {
     "data": {
      "text/markdown": [
       "\n",
       "- **Animation**: \n",
       "  - Animation is the most common genre, appearing in 22 out of 23 films in the dataset.\n",
       "\n",
       "- **Fantasy**, **Drama**, **Family**, and **Adventure**:\n",
       "  - These genres are also popular, each appearing in 8 films.\n",
       "\n",
       "- **Romance**, **War**, and **Comedy**:\n",
       "  - These genres are less common, appearing in only a few films each.\n",
       "  - Romance and War appear in 3 films each, while Comedy appears in 1 film."
      ],
      "text/plain": [
       "<IPython.core.display.Markdown object>"
      ]
     },
     "execution_count": 16,
     "metadata": {},
     "output_type": "execute_result"
    }
   ],
   "source": [
    "%%jmd\n",
    "\n",
    "- **Animation**: \n",
    "  - Animation is the most common genre, appearing in 22 out of 23 films in the dataset.\n",
    "\n",
    "- **Fantasy**, **Drama**, **Family**, and **Adventure**:\n",
    "  - These genres are also popular, each appearing in 8 films.\n",
    "\n",
    "- **Romance**, **War**, and **Comedy**:\n",
    "  - These genres are less common, appearing in only a few films each.\n",
    "  - Romance and War appear in 3 films each, while Comedy appears in 1 film."
   ]
  },
  {
   "cell_type": "code",
   "execution_count": 92,
   "metadata": {},
   "outputs": [
    {
     "data": {
      "text/markdown": [
       "\n",
       "### Budget & Revenue Distribution by Genre\n",
       "Exploring the distribution of revenue across different genres by calculating summary statistics for revenue within each genre.\n",
       "```python\n",
       "# Summary statistics for budget by genre\n",
       "budget_by_genre = data.groupby('Genre 1')['Budget'].describe()\n",
       "# Summary statistics for revenue by genre\n",
       "revenue_by_genre = data.groupby('Genre 1')['Revenue'].describe()\n",
       "```"
      ],
      "text/plain": [
       "<IPython.core.display.Markdown object>"
      ]
     },
     "execution_count": 92,
     "metadata": {},
     "output_type": "execute_result"
    }
   ],
   "source": [
    "%%jmd\n",
    "\n",
    "### Budget & Revenue Distribution by Genre\n",
    "Exploring the distribution of revenue across different genres by calculating summary statistics for revenue within each genre.\n",
    "```python\n",
    "# Summary statistics for budget by genre\n",
    "budget_by_genre = data.groupby('Genre 1')['Budget'].describe()\n",
    "# Summary statistics for revenue by genre\n",
    "revenue_by_genre = data.groupby('Genre 1')['Revenue'].describe()\n",
    "```"
   ]
  },
  {
   "cell_type": "code",
   "execution_count": 18,
   "metadata": {},
   "outputs": [
    {
     "name": "stdout",
     "output_type": "stream",
     "text": [
      "           count         mean           std         min         25%  \\\n",
      "Genre 1                                                               \n",
      "Adventure    5.0   11900000.0  9.977475e+06   1000000.0   3000000.0   \n",
      "Animation   12.0  111825000.0  3.272363e+08   2500000.0   6425000.0   \n",
      "Drama        1.0   30000000.0           NaN  30000000.0  30000000.0   \n",
      "Family       1.0    9200000.0           NaN   9200000.0   9200000.0   \n",
      "Fantasy      4.0   37675000.0  4.258743e+07   3700000.0  18175000.0   \n",
      "\n",
      "                  50%         75%           max  \n",
      "Genre 1                                          \n",
      "Adventure  12000000.0  20000000.0  2.350000e+07  \n",
      "Animation  19750000.0  25000000.0  1.150000e+09  \n",
      "Drama      30000000.0  30000000.0  3.000000e+07  \n",
      "Family      9200000.0   9200000.0  9.200000e+06  \n",
      "Fantasy    23500000.0  43000000.0  1.000000e+08  \n",
      "           count         mean           std          min           25%  \\\n",
      "Genre 1                                                                  \n",
      "Adventure    5.0  940309313.6  1.974304e+09    3301446.0  5.228752e+06   \n",
      "Animation   12.0   72815947.0  9.160348e+07     100000.0  3.499003e+06   \n",
      "Drama        1.0  117932401.0           NaN  117932401.0  1.179324e+08   \n",
      "Family       1.0   34100000.0           NaN   34100000.0  3.410000e+07   \n",
      "Fantasy      4.0  148382560.0  8.075553e+07   41000000.0  1.223604e+08   \n",
      "\n",
      "                   50%           75%           max  \n",
      "Genre 1                                             \n",
      "Adventure   54016370.0  1.690000e+08  4.470000e+09  \n",
      "Animation   34924783.5  9.321883e+07  2.749251e+08  \n",
      "Drama      117932401.0  1.179324e+08  1.179324e+08  \n",
      "Family      34100000.0  3.410000e+07  3.410000e+07  \n",
      "Fantasy    158240241.5  1.842624e+08  2.360498e+08  \n"
     ]
    }
   ],
   "source": [
    "# Summary statistics for budget by genre\n",
    "budget_by_genre = data.groupby('Genre 1')['Budget'].describe()\n",
    "print(budget_by_genre)\n",
    "\n",
    "# Summary statistics for revenue by genre\n",
    "revenue_by_genre = data.groupby('Genre 1')['Revenue'].describe()\n",
    "print(revenue_by_genre)"
   ]
  },
  {
   "cell_type": "code",
   "execution_count": 19,
   "metadata": {},
   "outputs": [
    {
     "data": {
      "text/markdown": [
       "\n",
       "#### Budget by Genre:\n",
       "- **Animation**: \n",
       "  - Mean budget: 111.8 million.\n",
       "  - Standard deviation: 327.24 million.\n",
       "  - The range of budgets is wide, from 2.5 million to 1.15 billion.\n",
       "\n",
       "- **Fantasy**: \n",
       "  - Mean budget: 37.68 million.\n",
       "  - Standard deviation: 42.59 million.\n",
       "  - The range of budgets is from 3.7 million to 100 million.\n",
       "\n",
       "- **Adventure**:\n",
       "  - Mean budget: 11.9 million.\n",
       "  - Standard deviation: 9.98 million.\n",
       "  - The range of budgets is from 1 million to 23.5 million.\n",
       "\n",
       "- **Drama** and **Family**: \n",
       "  - Each has only one entry in the dataset, with budgets of 30 million and 9.2 million, respectively.\n",
       "\n",
       "#### Revenue by Genre:\n",
       "- **Animation**: \n",
       "  - Mean revenue: 72.82 million.\n",
       "  - Standard deviation: 91.6 million.\n",
       "  - The range of revenues is wide, from 100,000 to 274.93 million.\n",
       "\n",
       "- **Fantasy**: \n",
       "  - Mean revenue: 148.38 million.\n",
       "  - Standard deviation: 80.76 million.\n",
       "  - The range of revenues is from 41 million to 236.05 million.\n",
       "\n",
       "- **Adventure**:\n",
       "  - Mean revenue: 940.31 million.\n",
       "  - Standard deviation: 1.97 billion.\n",
       "  - The range of revenues is from 3.3 million to 4.47 billion.\n",
       "\n",
       "- **Drama** and **Family**: \n",
       "  - Each has only one entry in the dataset, with revenues of 117.93 million and 34.1 million, respectively.\n",
       "___"
      ],
      "text/plain": [
       "<IPython.core.display.Markdown object>"
      ]
     },
     "execution_count": 19,
     "metadata": {},
     "output_type": "execute_result"
    }
   ],
   "source": [
    "%%jmd\n",
    "\n",
    "#### Budget by Genre:\n",
    "- **Animation**: \n",
    "  - Mean budget: 111.8 million.\n",
    "  - Standard deviation: 327.24 million.\n",
    "  - The range of budgets is wide, from 2.5 million to 1.15 billion.\n",
    "\n",
    "- **Fantasy**: \n",
    "  - Mean budget: 37.68 million.\n",
    "  - Standard deviation: 42.59 million.\n",
    "  - The range of budgets is from 3.7 million to 100 million.\n",
    "\n",
    "- **Adventure**:\n",
    "  - Mean budget: 11.9 million.\n",
    "  - Standard deviation: 9.98 million.\n",
    "  - The range of budgets is from 1 million to 23.5 million.\n",
    "\n",
    "- **Drama** and **Family**: \n",
    "  - Each has only one entry in the dataset, with budgets of 30 million and 9.2 million, respectively.\n",
    "\n",
    "#### Revenue by Genre:\n",
    "- **Animation**: \n",
    "  - Mean revenue: 72.82 million.\n",
    "  - Standard deviation: 91.6 million.\n",
    "  - The range of revenues is wide, from 100,000 to 274.93 million.\n",
    "\n",
    "- **Fantasy**: \n",
    "  - Mean revenue: 148.38 million.\n",
    "  - Standard deviation: 80.76 million.\n",
    "  - The range of revenues is from 41 million to 236.05 million.\n",
    "\n",
    "- **Adventure**:\n",
    "  - Mean revenue: 940.31 million.\n",
    "  - Standard deviation: 1.97 billion.\n",
    "  - The range of revenues is from 3.3 million to 4.47 billion.\n",
    "\n",
    "- **Drama** and **Family**: \n",
    "  - Each has only one entry in the dataset, with revenues of 117.93 million and 34.1 million, respectively.\n",
    "___\n",
    "\n"
   ]
  },
  {
   "cell_type": "code",
   "execution_count": 20,
   "metadata": {},
   "outputs": [
    {
     "data": {
      "text/markdown": [
       "\n",
       "# Insights\n",
       "\n",
       "The findings from the Exploratory Data Analysis (EDA) provide valuable insights. By examining revenue, budget, genre distribution, and other metrics, we can draw conclusions that can inform future decisions regarding genre selection and resource allocation in Studio Ghibli's filmmaking endeavors.\n",
       "\n",
       "Key insights include:\n",
       "\n",
       "1. **Revenue and Budget Analysis**:\n",
       "   - Studio Ghibli films vary widely in revenue, from 100,000 to 4.47 billion, indicating diverse financial success.\n",
       "   - Adventure films stand out with the highest mean revenue of 940.31 million, followed by Fantasy (148.38 million) and Animation (72.82 million).\n",
       "   - Similarly, Adventure films have the highest mean budget (11.9 million), suggesting substantial investments for potentially high returns.\n",
       "\n",
       "2. **Genre Distribution**:\n",
       "   - Animation is the most prevalent genre, appearing in 22 out of 23 films, highlighting its popularity.\n",
       "   - Fantasy, Drama, Family, and Adventure are also prominent, each appearing in 8 films, showcasing genre diversity.\n",
       "\n",
       "3. **Budget and Revenue Distribution by Genre**:\n",
       "   - Adventure films lead in revenue, with a mean of 940.31 million, followed by Fantasy (148.38 million) and Animation (72.82 million).\n",
       "   - Adventure films also have the highest mean budget (11.9 million), indicating significant investment.\n",
       "   \n",
       "4. **Year and Duration Analysis**:\n",
       "   - Studio Ghibli's filmography spans nearly four decades, from 1984 to 2023, indicating longevity in the industry.\n",
       "   - The median release year is 1999, suggesting a balanced distribution of films over time.\n",
       "   - Films average approximately 107.9 minutes in duration, reflecting varied storytelling approaches.\n",
       "\n",
       "In summary, Adventure films emerge as the most lucrative within Studio Ghibli's filmography, followed by Fantasy and Animation. These insights inform future decisions on genre selection and resource allocation, aiming to balance artistic vision with commercial success.\n",
       "\n",
       "___"
      ],
      "text/plain": [
       "<IPython.core.display.Markdown object>"
      ]
     },
     "execution_count": 20,
     "metadata": {},
     "output_type": "execute_result"
    }
   ],
   "source": [
    "%%jmd\n",
    "\n",
    "# Insights\n",
    "\n",
    "The findings from the Exploratory Data Analysis (EDA) provide valuable insights. By examining revenue, budget, genre distribution, and other metrics, we can draw conclusions that can inform future decisions regarding genre selection and resource allocation in Studio Ghibli's filmmaking endeavors.\n",
    "\n",
    "Key insights include:\n",
    "\n",
    "1. **Revenue and Budget Analysis**:\n",
    "   - Studio Ghibli films vary widely in revenue, from 100,000 to 4.47 billion, indicating diverse financial success.\n",
    "   - Adventure films stand out with the highest mean revenue of 940.31 million, followed by Fantasy (148.38 million) and Animation (72.82 million).\n",
    "   - Similarly, Adventure films have the highest mean budget (11.9 million), suggesting substantial investments for potentially high returns.\n",
    "\n",
    "2. **Genre Distribution**:\n",
    "   - Animation is the most prevalent genre, appearing in 22 out of 23 films, highlighting its popularity.\n",
    "   - Fantasy, Drama, Family, and Adventure are also prominent, each appearing in 8 films, showcasing genre diversity.\n",
    "\n",
    "3. **Budget and Revenue Distribution by Genre**:\n",
    "   - Adventure films lead in revenue, with a mean of 940.31 million, followed by Fantasy (148.38 million) and Animation (72.82 million).\n",
    "   - Adventure films also have the highest mean budget (11.9 million), indicating significant investment.\n",
    "   \n",
    "4. **Year and Duration Analysis**:\n",
    "   - Studio Ghibli's filmography spans nearly four decades, from 1984 to 2023, indicating longevity in the industry.\n",
    "   - The median release year is 1999, suggesting a balanced distribution of films over time.\n",
    "   - Films average approximately 107.9 minutes in duration, reflecting varied storytelling approaches.\n",
    "\n",
    "In summary, Adventure films emerge as the most lucrative within Studio Ghibli's filmography, followed by Fantasy and Animation. These insights inform future decisions on genre selection and resource allocation, aiming to balance artistic vision with commercial success.\n",
    "\n",
    "___"
   ]
  },
  {
   "cell_type": "code",
   "execution_count": 21,
   "metadata": {},
   "outputs": [],
   "source": [
    "data.to_csv('Studio_Ghibli_Cleaned.csv', index=False)"
   ]
  },
  {
   "cell_type": "code",
   "execution_count": 22,
   "metadata": {},
   "outputs": [
    {
     "data": {
      "text/markdown": [
       "\n",
       "# Data Preparation for Tableau\n",
       "\n",
       "### Distribution of Primary and Seconday Genres\n",
       "\n",
       "Showcasing the distribution of genre combinations to highlight which specific combinations of genres (e.g., Animation-Drama, Animation-Fantasy) are most common and potentially most successful.\n",
       "Since not all films have a third genre, we will use only `Genre 1` and `Genre 2`.\n",
       "```python\n",
       "# Create a new column combining the genre information\n",
       "ghibli_data['Combined_Genres'] = ghibli_data[['Genre 1', 'Genre 2']].apply(\n",
       "    lambda row: '-'.join(row.dropna().astype(str)), axis=1)\n",
       "\n",
       "# Count of each genre combination in the new Combined_Genres column \n",
       "genre_combination_distribution = ghibli_data['Combined_Genres'].value_counts().reset_index()\n",
       "genre_combination_distribution.columns = ['Combined_Genres', 'Film_Count']\n",
       "```"
      ],
      "text/plain": [
       "<IPython.core.display.Markdown object>"
      ]
     },
     "execution_count": 22,
     "metadata": {},
     "output_type": "execute_result"
    }
   ],
   "source": [
    "%%jmd\n",
    "\n",
    "# Data Preparation for Tableau\n",
    "\n",
    "### Distribution of Primary and Seconday Genres\n",
    "\n",
    "Showcasing the distribution of genre combinations to highlight which specific combinations of genres (e.g., Animation-Drama, Animation-Fantasy) are most common and potentially most successful.\n",
    "Since not all films have a third genre, we will use only `Genre 1` and `Genre 2`.\n",
    "```python\n",
    "# Create a new column combining the genre information\n",
    "ghibli_data['Combined_Genres'] = ghibli_data[['Genre 1', 'Genre 2']].apply(\n",
    "    lambda row: '-'.join(row.dropna().astype(str)), axis=1)\n",
    "\n",
    "# Count of each genre combination in the new Combined_Genres column \n",
    "genre_combination_distribution = ghibli_data['Combined_Genres'].value_counts().reset_index()\n",
    "genre_combination_distribution.columns = ['Combined_Genres', 'Film_Count']\n",
    "```"
   ]
  },
  {
   "cell_type": "code",
   "execution_count": 23,
   "metadata": {},
   "outputs": [
    {
     "name": "stdout",
     "output_type": "stream",
     "text": [
      "                              Name    Combined_Genres\n",
      "0            When Marnie Was There    Animation-Drama\n",
      "1  The Tale of The Princess Kaguya    Animation-Drama\n",
      "2                   The Wind Rises    Drama-Animation\n",
      "3            From Up on Poppy Hill    Animation-Drama\n",
      "4     The Secret World of Arrietty  Fantasy-Animation\n"
     ]
    }
   ],
   "source": [
    "# Load data\n",
    "ghibli_data = pd.read_csv('Studio_Ghibli_Cleaned.csv')\n",
    "\n",
    "# Create a new column combining the genre information\n",
    "ghibli_data['Combined_Genres'] = ghibli_data[['Genre 1', 'Genre 2']].apply(\n",
    "    lambda row: '-'.join(row.dropna().astype(str)), axis=1)\n",
    "\n",
    "# View the combined genres column\n",
    "print(ghibli_data[['Name', 'Combined_Genres']].head())"
   ]
  },
  {
   "cell_type": "code",
   "execution_count": 24,
   "metadata": {},
   "outputs": [],
   "source": [
    "ghibli_data.to_csv('Studio_Ghibli_Final.csv', index=False)"
   ]
  },
  {
   "cell_type": "code",
   "execution_count": 25,
   "metadata": {},
   "outputs": [
    {
     "data": {
      "text/html": [
       "<div>\n",
       "<style scoped>\n",
       "    .dataframe tbody tr th:only-of-type {\n",
       "        vertical-align: middle;\n",
       "    }\n",
       "\n",
       "    .dataframe tbody tr th {\n",
       "        vertical-align: top;\n",
       "    }\n",
       "\n",
       "    .dataframe thead th {\n",
       "        text-align: right;\n",
       "    }\n",
       "</style>\n",
       "<table border=\"1\" class=\"dataframe\">\n",
       "  <thead>\n",
       "    <tr style=\"text-align: right;\">\n",
       "      <th></th>\n",
       "      <th>Combined_Genres</th>\n",
       "      <th>Film_Count</th>\n",
       "    </tr>\n",
       "  </thead>\n",
       "  <tbody>\n",
       "    <tr>\n",
       "      <th>0</th>\n",
       "      <td>Animation-Drama</td>\n",
       "      <td>7</td>\n",
       "    </tr>\n",
       "    <tr>\n",
       "      <th>1</th>\n",
       "      <td>Fantasy-Animation</td>\n",
       "      <td>3</td>\n",
       "    </tr>\n",
       "    <tr>\n",
       "      <th>2</th>\n",
       "      <td>Animation-Family</td>\n",
       "      <td>3</td>\n",
       "    </tr>\n",
       "    <tr>\n",
       "      <th>3</th>\n",
       "      <td>Adventure-Fantasy</td>\n",
       "      <td>3</td>\n",
       "    </tr>\n",
       "    <tr>\n",
       "      <th>4</th>\n",
       "      <td>Animation-Fantasy</td>\n",
       "      <td>2</td>\n",
       "    </tr>\n",
       "    <tr>\n",
       "      <th>5</th>\n",
       "      <td>Adventure-Animation</td>\n",
       "      <td>2</td>\n",
       "    </tr>\n",
       "    <tr>\n",
       "      <th>6</th>\n",
       "      <td>Drama-Animation</td>\n",
       "      <td>1</td>\n",
       "    </tr>\n",
       "    <tr>\n",
       "      <th>7</th>\n",
       "      <td>Family-Comedy</td>\n",
       "      <td>1</td>\n",
       "    </tr>\n",
       "    <tr>\n",
       "      <th>8</th>\n",
       "      <td>Fantasy-Adventure</td>\n",
       "      <td>1</td>\n",
       "    </tr>\n",
       "  </tbody>\n",
       "</table>\n",
       "</div>"
      ],
      "text/plain": [
       "       Combined_Genres  Film_Count\n",
       "0      Animation-Drama           7\n",
       "1    Fantasy-Animation           3\n",
       "2     Animation-Family           3\n",
       "3    Adventure-Fantasy           3\n",
       "4    Animation-Fantasy           2\n",
       "5  Adventure-Animation           2\n",
       "6      Drama-Animation           1\n",
       "7        Family-Comedy           1\n",
       "8    Fantasy-Adventure           1"
      ]
     },
     "execution_count": 25,
     "metadata": {},
     "output_type": "execute_result"
    }
   ],
   "source": [
    "# Count of each genre combination in the new Combined_Genres column \n",
    "genre_combination_distribution = ghibli_data['Combined_Genres'].value_counts().reset_index()\n",
    "genre_combination_distribution.columns = ['Combined_Genres', 'Film_Count']\n",
    "\n",
    "# Export to CSV\n",
    "genre_combination_distribution.to_csv('Combined_Genres_Distribution.csv', index=False)\n",
    "\n",
    "genre_combination_distribution"
   ]
  },
  {
   "cell_type": "code",
   "execution_count": 113,
   "metadata": {},
   "outputs": [
    {
     "data": {
      "text/markdown": [
       "\n",
       "### Aggregation of Revenue and Budget by Combined Genre:\n",
       "Calculate average and total revenue and budget by combined genre.\n",
       "```python\n",
       "# Calculate average and total revenue and budget by combined genre:\n",
       "combined_genre_financials = ghibli_data.groupby('Combined_Genres').agg(\n",
       "    Average_Budget=('Budget', 'mean'),\n",
       "    Total_Budget=('Budget', 'sum'),\n",
       "    Average_Revenue=('Revenue', 'mean'),\n",
       "    Total_Revenue=('Revenue', 'sum')\n",
       ").reset_index()\n",
       "```"
      ],
      "text/plain": [
       "<IPython.core.display.Markdown object>"
      ]
     },
     "execution_count": 113,
     "metadata": {},
     "output_type": "execute_result"
    }
   ],
   "source": [
    "%%jmd\n",
    "\n",
    "### Aggregation of Revenue and Budget by Combined Genre:\n",
    "Calculate average and total revenue and budget by combined genre.\n",
    "```python\n",
    "# Calculate average and total revenue and budget by combined genre:\n",
    "combined_genre_financials = ghibli_data.groupby('Combined_Genres').agg(\n",
    "    Average_Budget=('Budget', 'mean'),\n",
    "    Total_Budget=('Budget', 'sum'),\n",
    "    Average_Revenue=('Revenue', 'mean'),\n",
    "    Total_Revenue=('Revenue', 'sum')\n",
    ").reset_index()\n",
    "```"
   ]
  },
  {
   "cell_type": "code",
   "execution_count": 107,
   "metadata": {},
   "outputs": [
    {
     "data": {
      "text/html": [
       "<div>\n",
       "<style scoped>\n",
       "    .dataframe tbody tr th:only-of-type {\n",
       "        vertical-align: middle;\n",
       "    }\n",
       "\n",
       "    .dataframe tbody tr th {\n",
       "        vertical-align: top;\n",
       "    }\n",
       "\n",
       "    .dataframe thead th {\n",
       "        text-align: right;\n",
       "    }\n",
       "</style>\n",
       "<table border=\"1\" class=\"dataframe\">\n",
       "  <thead>\n",
       "    <tr style=\"text-align: right;\">\n",
       "      <th></th>\n",
       "      <th>Combined_Genres</th>\n",
       "      <th>Average_Budget</th>\n",
       "      <th>Total_Budget</th>\n",
       "      <th>Average_Revenue</th>\n",
       "      <th>Total_Revenue</th>\n",
       "    </tr>\n",
       "  </thead>\n",
       "  <tbody>\n",
       "    <tr>\n",
       "      <th>0</th>\n",
       "      <td>Adventure-Animation</td>\n",
       "      <td>6.500000e+06</td>\n",
       "      <td>1.300000e+07</td>\n",
       "      <td>2.236651e+09</td>\n",
       "      <td>4.473301e+09</td>\n",
       "    </tr>\n",
       "    <tr>\n",
       "      <th>1</th>\n",
       "      <td>Adventure-Fantasy</td>\n",
       "      <td>1.550000e+07</td>\n",
       "      <td>4.650000e+07</td>\n",
       "      <td>7.608171e+07</td>\n",
       "      <td>2.282451e+08</td>\n",
       "    </tr>\n",
       "    <tr>\n",
       "      <th>2</th>\n",
       "      <td>Animation-Drama</td>\n",
       "      <td>1.770714e+08</td>\n",
       "      <td>1.239500e+09</td>\n",
       "      <td>2.233488e+07</td>\n",
       "      <td>1.563441e+08</td>\n",
       "    </tr>\n",
       "    <tr>\n",
       "      <th>3</th>\n",
       "      <td>Animation-Family</td>\n",
       "      <td>1.546667e+07</td>\n",
       "      <td>4.640000e+07</td>\n",
       "      <td>1.488060e+08</td>\n",
       "      <td>4.464181e+08</td>\n",
       "    </tr>\n",
       "    <tr>\n",
       "      <th>4</th>\n",
       "      <td>Animation-Fantasy</td>\n",
       "      <td>2.800000e+07</td>\n",
       "      <td>5.600000e+07</td>\n",
       "      <td>1.355146e+08</td>\n",
       "      <td>2.710291e+08</td>\n",
       "    </tr>\n",
       "    <tr>\n",
       "      <th>5</th>\n",
       "      <td>Drama-Animation</td>\n",
       "      <td>3.000000e+07</td>\n",
       "      <td>3.000000e+07</td>\n",
       "      <td>1.179324e+08</td>\n",
       "      <td>1.179324e+08</td>\n",
       "    </tr>\n",
       "    <tr>\n",
       "      <th>6</th>\n",
       "      <td>Family-Comedy</td>\n",
       "      <td>9.200000e+06</td>\n",
       "      <td>9.200000e+06</td>\n",
       "      <td>3.410000e+07</td>\n",
       "      <td>3.410000e+07</td>\n",
       "    </tr>\n",
       "    <tr>\n",
       "      <th>7</th>\n",
       "      <td>Fantasy-Adventure</td>\n",
       "      <td>1.000000e+08</td>\n",
       "      <td>1.000000e+08</td>\n",
       "      <td>1.670000e+08</td>\n",
       "      <td>1.670000e+08</td>\n",
       "    </tr>\n",
       "    <tr>\n",
       "      <th>8</th>\n",
       "      <td>Fantasy-Animation</td>\n",
       "      <td>1.690000e+07</td>\n",
       "      <td>5.070000e+07</td>\n",
       "      <td>1.421767e+08</td>\n",
       "      <td>4.265302e+08</td>\n",
       "    </tr>\n",
       "  </tbody>\n",
       "</table>\n",
       "</div>"
      ],
      "text/plain": [
       "       Combined_Genres  Average_Budget  Total_Budget  Average_Revenue  \\\n",
       "0  Adventure-Animation    6.500000e+06  1.300000e+07     2.236651e+09   \n",
       "1    Adventure-Fantasy    1.550000e+07  4.650000e+07     7.608171e+07   \n",
       "2      Animation-Drama    1.770714e+08  1.239500e+09     2.233488e+07   \n",
       "3     Animation-Family    1.546667e+07  4.640000e+07     1.488060e+08   \n",
       "4    Animation-Fantasy    2.800000e+07  5.600000e+07     1.355146e+08   \n",
       "5      Drama-Animation    3.000000e+07  3.000000e+07     1.179324e+08   \n",
       "6        Family-Comedy    9.200000e+06  9.200000e+06     3.410000e+07   \n",
       "7    Fantasy-Adventure    1.000000e+08  1.000000e+08     1.670000e+08   \n",
       "8    Fantasy-Animation    1.690000e+07  5.070000e+07     1.421767e+08   \n",
       "\n",
       "   Total_Revenue  \n",
       "0   4.473301e+09  \n",
       "1   2.282451e+08  \n",
       "2   1.563441e+08  \n",
       "3   4.464181e+08  \n",
       "4   2.710291e+08  \n",
       "5   1.179324e+08  \n",
       "6   3.410000e+07  \n",
       "7   1.670000e+08  \n",
       "8   4.265302e+08  "
      ]
     },
     "execution_count": 107,
     "metadata": {},
     "output_type": "execute_result"
    }
   ],
   "source": [
    "# Calculate average and total revenue and budget by combined genre:\n",
    "combined_genre_financials = ghibli_data.groupby('Combined_Genres').agg(\n",
    "    Average_Budget=('Budget', 'mean'),\n",
    "    Total_Budget=('Budget', 'sum'),\n",
    "    Average_Revenue=('Revenue', 'mean'),\n",
    "    Total_Revenue=('Revenue', 'sum')\n",
    ").reset_index()\n",
    "\n",
    "# Export to CSV\n",
    "combined_genre_financials.to_csv('Combined_Genre_Financials.csv', index=False)\n",
    "\n",
    "combined_genre_financials"
   ]
  },
  {
   "cell_type": "code",
   "execution_count": 109,
   "metadata": {},
   "outputs": [
    {
     "data": {
      "text/markdown": [
       "\n",
       "Since animation is the most frequently made genre, it might be worth filtering the data to only include films where the primary genre is animation and count each combination.\n",
       "```python\n",
       "# Filter data to include only films where the primary genre is Animation\n",
       "animation_films = ghibli_data[ghibli_data['Genre 1'] == 'Animation']\n",
       "\n",
       "# Count of each genre combination in Animation films\n",
       "genre_combination_counts = animation_films['Combined_Genres'].value_counts().reset_index()\n",
       "genre_combination_counts.columns = ['Animation_Combination', 'Count']\n",
       "```"
      ],
      "text/plain": [
       "<IPython.core.display.Markdown object>"
      ]
     },
     "execution_count": 109,
     "metadata": {},
     "output_type": "execute_result"
    }
   ],
   "source": [
    "%%jmd\n",
    "\n",
    "Since animation is the most frequently made genre, it might be worth filtering the data to only include films where the primary genre is animation and count each combination.\n",
    "```python\n",
    "# Filter data to include only films where the primary genre is Animation\n",
    "animation_films = ghibli_data[ghibli_data['Genre 1'] == 'Animation']\n",
    "\n",
    "# Count of each genre combination in Animation films\n",
    "genre_combination_counts = animation_films['Combined_Genres'].value_counts().reset_index()\n",
    "genre_combination_counts.columns = ['Animation_Combination', 'Count']\n",
    "```"
   ]
  },
  {
   "cell_type": "code",
   "execution_count": 81,
   "metadata": {},
   "outputs": [
    {
     "data": {
      "text/html": [
       "<div>\n",
       "<style scoped>\n",
       "    .dataframe tbody tr th:only-of-type {\n",
       "        vertical-align: middle;\n",
       "    }\n",
       "\n",
       "    .dataframe tbody tr th {\n",
       "        vertical-align: top;\n",
       "    }\n",
       "\n",
       "    .dataframe thead th {\n",
       "        text-align: right;\n",
       "    }\n",
       "</style>\n",
       "<table border=\"1\" class=\"dataframe\">\n",
       "  <thead>\n",
       "    <tr style=\"text-align: right;\">\n",
       "      <th></th>\n",
       "      <th>Animation_Combination</th>\n",
       "      <th>Count</th>\n",
       "    </tr>\n",
       "  </thead>\n",
       "  <tbody>\n",
       "    <tr>\n",
       "      <th>0</th>\n",
       "      <td>Animation-Drama</td>\n",
       "      <td>7</td>\n",
       "    </tr>\n",
       "    <tr>\n",
       "      <th>1</th>\n",
       "      <td>Animation-Family</td>\n",
       "      <td>3</td>\n",
       "    </tr>\n",
       "    <tr>\n",
       "      <th>2</th>\n",
       "      <td>Animation-Fantasy</td>\n",
       "      <td>2</td>\n",
       "    </tr>\n",
       "  </tbody>\n",
       "</table>\n",
       "</div>"
      ],
      "text/plain": [
       "  Animation_Combination  Count\n",
       "0       Animation-Drama      7\n",
       "1      Animation-Family      3\n",
       "2     Animation-Fantasy      2"
      ]
     },
     "execution_count": 81,
     "metadata": {},
     "output_type": "execute_result"
    }
   ],
   "source": [
    "# Filter data to include only films where the primary genre is Animation\n",
    "animation_films = ghibli_data[ghibli_data['Genre 1'] == 'Animation']\n",
    "\n",
    "# Count of each genre combination in Animation films\n",
    "genre_combination_counts = animation_films['Combined_Genres'].value_counts().reset_index()\n",
    "genre_combination_counts.columns = ['Animation_Combination', 'Count']\n",
    "\n",
    "# Export to CSV\n",
    "genre_combination_counts.to_csv('Animation_Genre_Combinations.csv', index=False)\n",
    "\n",
    "genre_combination_counts"
   ]
  },
  {
   "cell_type": "code",
   "execution_count": 26,
   "metadata": {},
   "outputs": [
    {
     "data": {
      "text/markdown": [
       "\n",
       "### Film Duration Analysis\n",
       "Average and distribution of film durations by genre.\n",
       "```python\n",
       "# Average duration by genres\n",
       "duration_by_genre = ghibli_data.groupby('Combined_Genres').agg(\n",
       "    Average_Duration=('Duration_in_minutes', 'mean')\n",
       ").reset_index()\n",
       "```"
      ],
      "text/plain": [
       "<IPython.core.display.Markdown object>"
      ]
     },
     "execution_count": 26,
     "metadata": {},
     "output_type": "execute_result"
    }
   ],
   "source": [
    "%%jmd\n",
    "\n",
    "### Film Duration Analysis\n",
    "Average and distribution of film durations by genre.\n",
    "```python\n",
    "# Average duration by genres\n",
    "duration_by_genre = ghibli_data.groupby('Combined_Genres').agg(\n",
    "    Average_Duration=('Duration_in_minutes', 'mean')\n",
    ").reset_index()\n",
    "```"
   ]
  },
  {
   "cell_type": "code",
   "execution_count": 27,
   "metadata": {},
   "outputs": [
    {
     "data": {
      "text/html": [
       "<div>\n",
       "<style scoped>\n",
       "    .dataframe tbody tr th:only-of-type {\n",
       "        vertical-align: middle;\n",
       "    }\n",
       "\n",
       "    .dataframe tbody tr th {\n",
       "        vertical-align: top;\n",
       "    }\n",
       "\n",
       "    .dataframe thead th {\n",
       "        text-align: right;\n",
       "    }\n",
       "</style>\n",
       "<table border=\"1\" class=\"dataframe\">\n",
       "  <thead>\n",
       "    <tr style=\"text-align: right;\">\n",
       "      <th></th>\n",
       "      <th>Combined_Genres</th>\n",
       "      <th>Average_Duration</th>\n",
       "    </tr>\n",
       "  </thead>\n",
       "  <tbody>\n",
       "    <tr>\n",
       "      <th>0</th>\n",
       "      <td>Adventure-Animation</td>\n",
       "      <td>118.000000</td>\n",
       "    </tr>\n",
       "    <tr>\n",
       "      <th>1</th>\n",
       "      <td>Adventure-Fantasy</td>\n",
       "      <td>111.333333</td>\n",
       "    </tr>\n",
       "    <tr>\n",
       "      <th>2</th>\n",
       "      <td>Animation-Drama</td>\n",
       "      <td>103.142857</td>\n",
       "    </tr>\n",
       "    <tr>\n",
       "      <th>3</th>\n",
       "      <td>Animation-Family</td>\n",
       "      <td>110.666667</td>\n",
       "    </tr>\n",
       "    <tr>\n",
       "      <th>4</th>\n",
       "      <td>Animation-Fantasy</td>\n",
       "      <td>107.500000</td>\n",
       "    </tr>\n",
       "    <tr>\n",
       "      <th>5</th>\n",
       "      <td>Drama-Animation</td>\n",
       "      <td>126.000000</td>\n",
       "    </tr>\n",
       "    <tr>\n",
       "      <th>6</th>\n",
       "      <td>Family-Comedy</td>\n",
       "      <td>93.000000</td>\n",
       "    </tr>\n",
       "    <tr>\n",
       "      <th>7</th>\n",
       "      <td>Fantasy-Adventure</td>\n",
       "      <td>124.000000</td>\n",
       "    </tr>\n",
       "    <tr>\n",
       "      <th>8</th>\n",
       "      <td>Fantasy-Animation</td>\n",
       "      <td>99.666667</td>\n",
       "    </tr>\n",
       "  </tbody>\n",
       "</table>\n",
       "</div>"
      ],
      "text/plain": [
       "       Combined_Genres  Average_Duration\n",
       "0  Adventure-Animation        118.000000\n",
       "1    Adventure-Fantasy        111.333333\n",
       "2      Animation-Drama        103.142857\n",
       "3     Animation-Family        110.666667\n",
       "4    Animation-Fantasy        107.500000\n",
       "5      Drama-Animation        126.000000\n",
       "6        Family-Comedy         93.000000\n",
       "7    Fantasy-Adventure        124.000000\n",
       "8    Fantasy-Animation         99.666667"
      ]
     },
     "execution_count": 27,
     "metadata": {},
     "output_type": "execute_result"
    }
   ],
   "source": [
    "# Average duration by genres\n",
    "duration_by_genre = ghibli_data.groupby('Combined_Genres').agg(\n",
    "    Average_Duration=('Duration_in_minutes', 'mean')\n",
    ").reset_index()\n",
    "\n",
    "# Export to CSV\n",
    "duration_by_genre.to_csv('Duration_by_Combined_Genre.csv', index=False)\n",
    "\n",
    "duration_by_genre"
   ]
  },
  {
   "cell_type": "code",
   "execution_count": 111,
   "metadata": {},
   "outputs": [
    {
     "data": {
      "text/markdown": [
       "\n",
       "### Director Analysis\n",
       "Films per director, categorized by genre.\n",
       "```python\n",
       "# Count of films by director\n",
       "films_by_director = ghibli_data.groupby(['Director', 'Combined_Genres']).size().unstack(fill_value=0).reset_index()\n",
       "```"
      ],
      "text/plain": [
       "<IPython.core.display.Markdown object>"
      ]
     },
     "execution_count": 111,
     "metadata": {},
     "output_type": "execute_result"
    }
   ],
   "source": [
    "%%jmd\n",
    "\n",
    "### Director Analysis\n",
    "Films per director, categorized by genre.\n",
    "```python\n",
    "# Count of films by director\n",
    "films_by_director = ghibli_data.groupby(['Director', 'Combined_Genres']).size().unstack(fill_value=0).reset_index()\n",
    "```"
   ]
  },
  {
   "cell_type": "code",
   "execution_count": 79,
   "metadata": {
    "scrolled": true
   },
   "outputs": [
    {
     "data": {
      "text/html": [
       "<div>\n",
       "<style scoped>\n",
       "    .dataframe tbody tr th:only-of-type {\n",
       "        vertical-align: middle;\n",
       "    }\n",
       "\n",
       "    .dataframe tbody tr th {\n",
       "        vertical-align: top;\n",
       "    }\n",
       "\n",
       "    .dataframe thead th {\n",
       "        text-align: right;\n",
       "    }\n",
       "</style>\n",
       "<table border=\"1\" class=\"dataframe\">\n",
       "  <thead>\n",
       "    <tr style=\"text-align: right;\">\n",
       "      <th>Combined_Genres</th>\n",
       "      <th>Director</th>\n",
       "      <th>Adventure-Animation</th>\n",
       "      <th>Adventure-Fantasy</th>\n",
       "      <th>Animation-Drama</th>\n",
       "      <th>Animation-Family</th>\n",
       "      <th>Animation-Fantasy</th>\n",
       "      <th>Drama-Animation</th>\n",
       "      <th>Family-Comedy</th>\n",
       "      <th>Fantasy-Adventure</th>\n",
       "      <th>Fantasy-Animation</th>\n",
       "    </tr>\n",
       "  </thead>\n",
       "  <tbody>\n",
       "    <tr>\n",
       "      <th>0</th>\n",
       "      <td>Goro Miyazaki</td>\n",
       "      <td>0</td>\n",
       "      <td>0</td>\n",
       "      <td>1</td>\n",
       "      <td>0</td>\n",
       "      <td>1</td>\n",
       "      <td>0</td>\n",
       "      <td>0</td>\n",
       "      <td>0</td>\n",
       "      <td>0</td>\n",
       "    </tr>\n",
       "    <tr>\n",
       "      <th>1</th>\n",
       "      <td>Hayao Miyazaki</td>\n",
       "      <td>1</td>\n",
       "      <td>2</td>\n",
       "      <td>0</td>\n",
       "      <td>2</td>\n",
       "      <td>1</td>\n",
       "      <td>1</td>\n",
       "      <td>1</td>\n",
       "      <td>1</td>\n",
       "      <td>2</td>\n",
       "    </tr>\n",
       "    <tr>\n",
       "      <th>2</th>\n",
       "      <td>Hiromasa Yonebayashi</td>\n",
       "      <td>0</td>\n",
       "      <td>0</td>\n",
       "      <td>1</td>\n",
       "      <td>0</td>\n",
       "      <td>0</td>\n",
       "      <td>0</td>\n",
       "      <td>0</td>\n",
       "      <td>0</td>\n",
       "      <td>1</td>\n",
       "    </tr>\n",
       "    <tr>\n",
       "      <th>3</th>\n",
       "      <td>Hiroyuki Morita</td>\n",
       "      <td>0</td>\n",
       "      <td>1</td>\n",
       "      <td>0</td>\n",
       "      <td>0</td>\n",
       "      <td>0</td>\n",
       "      <td>0</td>\n",
       "      <td>0</td>\n",
       "      <td>0</td>\n",
       "      <td>0</td>\n",
       "    </tr>\n",
       "    <tr>\n",
       "      <th>4</th>\n",
       "      <td>Isao Takahata</td>\n",
       "      <td>1</td>\n",
       "      <td>0</td>\n",
       "      <td>3</td>\n",
       "      <td>1</td>\n",
       "      <td>0</td>\n",
       "      <td>0</td>\n",
       "      <td>0</td>\n",
       "      <td>0</td>\n",
       "      <td>0</td>\n",
       "    </tr>\n",
       "    <tr>\n",
       "      <th>5</th>\n",
       "      <td>Tomomi Mochizuki</td>\n",
       "      <td>0</td>\n",
       "      <td>0</td>\n",
       "      <td>1</td>\n",
       "      <td>0</td>\n",
       "      <td>0</td>\n",
       "      <td>0</td>\n",
       "      <td>0</td>\n",
       "      <td>0</td>\n",
       "      <td>0</td>\n",
       "    </tr>\n",
       "    <tr>\n",
       "      <th>6</th>\n",
       "      <td>Yoshifumi Kondo</td>\n",
       "      <td>0</td>\n",
       "      <td>0</td>\n",
       "      <td>1</td>\n",
       "      <td>0</td>\n",
       "      <td>0</td>\n",
       "      <td>0</td>\n",
       "      <td>0</td>\n",
       "      <td>0</td>\n",
       "      <td>0</td>\n",
       "    </tr>\n",
       "  </tbody>\n",
       "</table>\n",
       "</div>"
      ],
      "text/plain": [
       "Combined_Genres              Director  Adventure-Animation  Adventure-Fantasy  \\\n",
       "0                       Goro Miyazaki                    0                  0   \n",
       "1                      Hayao Miyazaki                    1                  2   \n",
       "2                Hiromasa Yonebayashi                    0                  0   \n",
       "3                     Hiroyuki Morita                    0                  1   \n",
       "4                       Isao Takahata                    1                  0   \n",
       "5                    Tomomi Mochizuki                    0                  0   \n",
       "6                     Yoshifumi Kondo                    0                  0   \n",
       "\n",
       "Combined_Genres  Animation-Drama  Animation-Family  Animation-Fantasy  \\\n",
       "0                              1                 0                  1   \n",
       "1                              0                 2                  1   \n",
       "2                              1                 0                  0   \n",
       "3                              0                 0                  0   \n",
       "4                              3                 1                  0   \n",
       "5                              1                 0                  0   \n",
       "6                              1                 0                  0   \n",
       "\n",
       "Combined_Genres  Drama-Animation  Family-Comedy  Fantasy-Adventure  \\\n",
       "0                              0              0                  0   \n",
       "1                              1              1                  1   \n",
       "2                              0              0                  0   \n",
       "3                              0              0                  0   \n",
       "4                              0              0                  0   \n",
       "5                              0              0                  0   \n",
       "6                              0              0                  0   \n",
       "\n",
       "Combined_Genres  Fantasy-Animation  \n",
       "0                                0  \n",
       "1                                2  \n",
       "2                                1  \n",
       "3                                0  \n",
       "4                                0  \n",
       "5                                0  \n",
       "6                                0  "
      ]
     },
     "execution_count": 79,
     "metadata": {},
     "output_type": "execute_result"
    }
   ],
   "source": [
    "# Count of films by director\n",
    "films_by_director = ghibli_data.groupby(['Director', 'Combined_Genres']).size().unstack(fill_value=0).reset_index()\n",
    "\n",
    "# Export to CSV\n",
    "films_by_director.to_csv('Films_by_Director.csv', index=False)\n",
    "\n",
    "films_by_director"
   ]
  },
  {
   "cell_type": "code",
   "execution_count": 4,
   "metadata": {},
   "outputs": [
    {
     "data": {
      "text/markdown": [
       "\n",
       "___\n",
       "\n",
       "# Studio Ghibli Dashboard\n",
       "\n",
       "Below is an image of the dashboard. To view and interact with the dashboard, I've provided a link to it on Tableau Public. \n",
       "\n",
       "![Dashboard](dashboard.png)\n",
       "\n",
       "View the interactive dashboard on [Tableau Public](https://public.tableau.com/app/profile/brittany.everette/viz/StudioGhibliAnalyzingGenrePopularity/Dashboard1#1)"
      ],
      "text/plain": [
       "<IPython.core.display.Markdown object>"
      ]
     },
     "execution_count": 4,
     "metadata": {},
     "output_type": "execute_result"
    }
   ],
   "source": [
    "%%jmd\n",
    "\n",
    "___\n",
    "\n",
    "# Studio Ghibli Dashboard\n",
    "\n",
    "Below is an image of the dashboard. To view and interact with the dashboard, I've provided a link to it on Tableau Public. \n",
    "\n",
    "![Dashboard](dashboard.png)\n",
    "\n",
    "View the interactive dashboard on [Tableau Public](https://public.tableau.com/app/profile/brittany.everette/viz/StudioGhibliAnalyzingGenrePopularity/Dashboard1#1)"
   ]
  },
  {
   "cell_type": "code",
   "execution_count": 33,
   "metadata": {},
   "outputs": [
    {
     "data": {
      "text/markdown": [
       "\n",
       "___\n",
       "\n",
       "\n",
       "# Final Findings and Recommendations\n",
       "\n",
       "## Findings\n",
       "\n",
       "The analysis of Studio Ghibli's film catalog provides a detailed look into genre popularity and their financial outcomes:\n",
       "\n",
       "- **Distribution of Genre Combinations**: The most frequently produced genre is Animation-Drama, with seven films to its credit. This consistency indicates a solid audience base and our studio's dedication to this genre.\n",
       "\n",
       "- **Aggregation of Revenue and Budget by Combined Genre**: Adventure-Animation, represented by just two films, has yielded the highest total revenue, surpassing 4.47 billion. This exceptional financial success highlights its potential for yielding substantial returns.\n",
       "\n",
       "- **Film Duration Analysis**: The extended duration of films in genres like Adventure-Animation and Fantasy-Adventure generally correlates with strong market acceptance and sustained audience interest.\n",
       "\n",
       "- **Director Analysis**: The versatile Hayao Miyazaki has contributed significantly across various high-revenue genres, reinforcing his critical role in the studio's successful outputs.\n",
       "\n",
       "The analysis supports two primary success metrics:\n",
       "1. **Highest Revenue**: Adventure-Animation, despite its limited production, stands out for its incredible revenue potential per film.\n",
       "2. **Consistent Production**: Animation-Drama has been produced most consistently, affirming its role as a fundamental genre that continuously attracts viewers.\n",
       "\n",
       "## Recommendations\n",
       "\n",
       "Reflecting on the findings, I recommend the following strategies to optimize both financial success and audience engagement:\n",
       "\n",
       "1. **Increase Production of Adventure-Animation**: Considering its impressive revenue achievements, investing in more Adventure-Animation films could tap into this genre's lucrative potential.\n",
       "\n",
       "2. **Maintain Focus on Animation-Drama**: The steady production of Animation-Drama films shows its enduring appeal. Investing in this genre could include pushing the boundaries of narrative depth or introducing innovative storytelling techniques to refresh its appeal.\n",
       "\n",
       "3. **Leverage Directorial Strengths**: Assigning projects within these successful genres to experienced directors like Hayao Miyazaki can maximize their success potential, given his track record in enhancing film performance.\n",
       "\n",
       "4. **Refine Audience Engagement Strategies**: Adjusting film lengths to meet genre-specific audience expectations could further improve engagement and satisfaction levels.\n",
       "\n",
       "Adopting these strategies can ensure that future projects will not only resonate with audiences but also continue to uphold Studio Ghibli's legacy in the competitive landscape of animation cinema.\n",
       "\n",
       "___"
      ],
      "text/plain": [
       "<IPython.core.display.Markdown object>"
      ]
     },
     "execution_count": 33,
     "metadata": {},
     "output_type": "execute_result"
    }
   ],
   "source": [
    "%%jmd\n",
    "\n",
    "___\n",
    "\n",
    "\n",
    "# Final Findings and Recommendations\n",
    "\n",
    "## Findings\n",
    "\n",
    "The analysis of Studio Ghibli's film catalog provides a detailed look into genre popularity and their financial outcomes:\n",
    "\n",
    "- **Distribution of Genre Combinations**: The most frequently produced genre is Animation-Drama, with seven films to its credit. This consistency indicates a solid audience base and our studio's dedication to this genre.\n",
    "\n",
    "- **Aggregation of Revenue and Budget by Combined Genre**: Adventure-Animation, represented by just two films, has yielded the highest total revenue, surpassing 4.47 billion. This exceptional financial success highlights its potential for yielding substantial returns.\n",
    "\n",
    "- **Film Duration Analysis**: The extended duration of films in genres like Adventure-Animation and Fantasy-Adventure generally correlates with strong market acceptance and sustained audience interest.\n",
    "\n",
    "- **Director Analysis**: The versatile Hayao Miyazaki has contributed significantly across various high-revenue genres, reinforcing his critical role in the studio's successful outputs.\n",
    "\n",
    "The analysis supports two primary success metrics:\n",
    "1. **Highest Revenue**: Adventure-Animation, despite its limited production, stands out for its incredible revenue potential per film.\n",
    "2. **Consistent Production**: Animation-Drama has been produced most consistently, affirming its role as a fundamental genre that continuously attracts viewers.\n",
    "\n",
    "## Recommendations\n",
    "\n",
    "Reflecting on the findings, I recommend the following strategies to optimize both financial success and audience engagement:\n",
    "\n",
    "1. **Increase Production of Adventure-Animation**: Considering its impressive revenue achievements, investing in more Adventure-Animation films could tap into this genre's lucrative potential.\n",
    "\n",
    "2. **Maintain Focus on Animation-Drama**: The steady production of Animation-Drama films shows its enduring appeal. Investing in this genre could include pushing the boundaries of narrative depth or introducing innovative storytelling techniques to refresh its appeal.\n",
    "\n",
    "3. **Leverage Directorial Strengths**: Assigning projects within these successful genres to experienced directors like Hayao Miyazaki can maximize their success potential, given his track record in enhancing film performance.\n",
    "\n",
    "4. **Refine Audience Engagement Strategies**: Adjusting film lengths to meet genre-specific audience expectations could further improve engagement and satisfaction levels.\n",
    "\n",
    "Adopting these strategies can ensure that future projects will not only resonate with audiences but also continue to uphold Studio Ghibli's legacy in the competitive landscape of animation cinema.\n",
    "\n",
    "___"
   ]
  },
  {
   "cell_type": "code",
   "execution_count": 32,
   "metadata": {},
   "outputs": [
    {
     "data": {
      "text/markdown": [
       "\n",
       "# Acknowledgments & References\n",
       "\n",
       "- The dataset is available on Kaggle and can be downloaded using the following link:\n",
       "    - [Studio Ghibli Dataset on Kaggle](https://www.kaggle.com/datasets/shruthiiiee/studio-ghibli-dataset)\n",
       "\n",
       "- This project is licensed under the [Apache License, Version 2.0.](http://www.apache.org/licenses/LICENSE-2.0)\n",
       "\n",
       "- The dashboard was created using [Tableau Public](https://public.tableau.com/). \n",
       "\n",
       "- The background of the dashboard was created and designed myself using [Canva](https://www.canva.com).\n",
       "\n",
       "- The Studio Ghibli pngs in the dashboard are from [PNGEgg](https://www.pngegg.com/) and are free to use. \n",
       "\n",
       "___\n",
       "\n",
       "## Contact Information\n",
       "\n",
       "- Email: [phelpsbp@gmail.com](mailto:phelpsbp@gmail.com)\n",
       "- LinkedIn: [Brittany Phelps](https://www.linkedin.com/in/brittany-everette/)\n",
       "- Github: [phelpsbp](https://github.com/phelpsbp)\n",
       "\n",
       "I'm usually available for a chat on weekdays from 9 AM to 5 PM. Looking forward to hearing from you!"
      ],
      "text/plain": [
       "<IPython.core.display.Markdown object>"
      ]
     },
     "execution_count": 32,
     "metadata": {},
     "output_type": "execute_result"
    }
   ],
   "source": [
    "%%jmd\n",
    "\n",
    "# Acknowledgments & References\n",
    "\n",
    "- The dataset is available on Kaggle and can be downloaded using the following link:\n",
    "    - [Studio Ghibli Dataset on Kaggle](https://www.kaggle.com/datasets/shruthiiiee/studio-ghibli-dataset)\n",
    "\n",
    "- This project is licensed under the [Apache License, Version 2.0.](http://www.apache.org/licenses/LICENSE-2.0)\n",
    "\n",
    "- The dashboard was created using [Tableau Public](https://public.tableau.com/). \n",
    "\n",
    "- The background of the dashboard was created and designed myself using [Canva](https://www.canva.com).\n",
    "\n",
    "- The Studio Ghibli pngs in the dashboard are from [PNGEgg](https://www.pngegg.com/) and are free to use. \n",
    "\n",
    "___\n",
    "\n",
    "## Contact Information\n",
    "\n",
    "- Email: [phelpsbp@gmail.com](mailto:phelpsbp@gmail.com)\n",
    "- LinkedIn: [Brittany Phelps](https://www.linkedin.com/in/brittany-everette/)\n",
    "- Github: [phelpsbp](https://github.com/phelpsbp)\n",
    "\n",
    "I'm usually available for a chat on weekdays from 9 AM to 5 PM. Looking forward to hearing from you!"
   ]
  },
  {
   "cell_type": "code",
   "execution_count": 8,
   "metadata": {},
   "outputs": [
    {
     "name": "stderr",
     "output_type": "stream",
     "text": [
      "[NbConvertApp] Converting notebook Studio Ghibli Genre Popularity.ipynb to html\n",
      "[NbConvertApp] Writing 6617480 bytes to Studio Ghibli Genre Popularity.html\n"
     ]
    }
   ],
   "source": [
    "!jupyter nbconvert --to html --template pj --embed-images \"Studio Ghibli Genre Popularity.ipynb\""
   ]
  },
  {
   "cell_type": "code",
   "execution_count": 37,
   "metadata": {},
   "outputs": [
    {
     "name": "stdout",
     "output_type": "stream",
     "text": [
      "Note: you may need to restart the kernel to use updated packages.\n"
     ]
    }
   ],
   "source": [
    "pip freeze > requirements.txt"
   ]
  },
  {
   "cell_type": "code",
   "execution_count": null,
   "metadata": {},
   "outputs": [],
   "source": []
  }
 ],
 "metadata": {
  "kernelspec": {
   "display_name": "Python 3 (ipykernel)",
   "language": "python",
   "name": "python3"
  },
  "language_info": {
   "codemirror_mode": {
    "name": "ipython",
    "version": 3
   },
   "file_extension": ".py",
   "mimetype": "text/x-python",
   "name": "python",
   "nbconvert_exporter": "python",
   "pygments_lexer": "ipython3",
   "version": "3.11.5"
  }
 },
 "nbformat": 4,
 "nbformat_minor": 2
}
